{
  "nbformat": 4,
  "nbformat_minor": 0,
  "metadata": {
    "colab": {
      "provenance": [],
      "authorship_tag": "ABX9TyNQZOZjUU8aKH1kyvsBjDst"
    },
    "kernelspec": {
      "name": "python3",
      "display_name": "Python 3"
    },
    "language_info": {
      "name": "python"
    }
  },
  "cells": [
    {
      "cell_type": "code",
      "execution_count": 1,
      "metadata": {
        "id": "VY3bUJJJcRDT"
      },
      "outputs": [],
      "source": [
        "import pandas as pd\n",
        "import requests\n",
        "import json\n",
        "import numpy as np"
      ]
    },
    {
      "cell_type": "markdown",
      "source": [
        "Colocar a chave"
      ],
      "metadata": {
        "id": "MbVOJ-nJd1OU"
      }
    },
    {
      "cell_type": "code",
      "source": [
        "minha_chave = 'XX'\n",
        "\n",
        "chave = {'chave-api-dados':minha_chave}\n"
      ],
      "metadata": {
        "id": "sJFCpNrecY5u"
      },
      "execution_count": 2,
      "outputs": []
    },
    {
      "cell_type": "markdown",
      "source": [
        "Incluir ano e estado em maiuscula\n",
        "\n",
        "Caso seja necessário basta trocar o endereço (URL) para novas consultas, e fazer uma leve alteração na URL, nesse caso é despesas por favorecido\n",
        "\n",
        "https://api.portaldatransparencia.gov.br/swagger-ui.html\n",
        "\n",
        "\n"
      ],
      "metadata": {
        "id": "-x5DgqTKd35m"
      }
    },
    {
      "cell_type": "code",
      "source": [
        "recursos_recebidos = []\n",
        "\n",
        "\n",
        "ano = 2022\n",
        "page = 1\n",
        "estado = 'XX'\n",
        "\n",
        "url = f'https://api.portaldatransparencia.gov.br/api-de-dados/despesas/recursos-recebidos?mesAnoFim=12%2F{ano}&mesAnoInicio=01%2F{ano}&pagina={page}&uf={estado}'\n",
        "    \n",
        "   \n",
        "    \n",
        "est = requests.get(url, verify=True,headers=chave).json()\n",
        "\n",
        "    \n",
        "recursos_recebidos = recursos_recebidos + est"
      ],
      "metadata": {
        "id": "u8N0PGxzcbRw"
      },
      "execution_count": 3,
      "outputs": []
    },
    {
      "cell_type": "code",
      "source": [
        "df_recursos_recebidos = pd.DataFrame(recursos_recebidos)"
      ],
      "metadata": {
        "id": "WgeUPM2Ofi9Q"
      },
      "execution_count": 4,
      "outputs": []
    },
    {
      "cell_type": "code",
      "source": [
        "df_recursos_recebidos.head(5)"
      ],
      "metadata": {
        "id": "KtxlH5Jyfrop"
      },
      "execution_count": null,
      "outputs": []
    },
    {
      "cell_type": "code",
      "source": [
        "page = 1\n",
        "registro = requests.get(f'https://api.portaldatransparencia.gov.br/api-de-dados/despesas/recursos-recebidos?mesAnoFim=12%2F{ano}&mesAnoInicio=01%2F{ano}&pagina={page}&uf={estado}',\n",
        "                           verify=True,headers=chave).json()\n",
        "\n",
        "len(registro)"
      ],
      "metadata": {
        "colab": {
          "base_uri": "https://localhost:8080/"
        },
        "id": "2i8JmfGXgrjb",
        "outputId": "03346d0f-e32c-4588-9e71-574adcf3b86e"
      },
      "execution_count": 6,
      "outputs": [
        {
          "output_type": "execute_result",
          "data": {
            "text/plain": [
              "15"
            ]
          },
          "metadata": {},
          "execution_count": 6
        }
      ]
    },
    {
      "cell_type": "code",
      "source": [
        "# Vamos definir aqui a página inicial e o tamanho do registro que obtemos da API. Se ele for zero, a iteração irá parar.\n",
        "page = 1\n",
        "tamanho = len(registro)\n",
        "\n",
        "# E vamos armazenar as informações de todas as páginas chamando a de \"dados\"\n",
        "dados = []\n",
        "\n",
        "# Aqui a iteração que irá percorrer as páginas\n",
        "while(tamanho>0):\n",
        "    print('Baixando a página', page, ' do link:', f'https://api.portaldatransparencia.gov.br/api-de-dados/despesas/recursos-recebidos?mesAnoFim=12%2F{ano}&mesAnoInicio=01%2F{ano}&pagina={page}&uf={estado}')  \n",
        "    registro = requests.get(f'https://api.portaldatransparencia.gov.br/api-de-dados/despesas/recursos-recebidos?mesAnoFim=01%2F{ano}&mesAnoInicio=12%2F{ano}&pagina={page}&uf={estado}',\n",
        "                           verify=True,headers=chave).json()\n",
        "    tamanho = len(registro)\n",
        "\n",
        "    # Se a resposta for válida, vamos juntar o registro da página atual com os dados já coletados\n",
        "    if tamanho > 0:\n",
        "      dados = dados + registro\n",
        "      page = page + 1\n",
        "      print('O tamanho da última resposta foi',tamanho,'. Iremos seguir em frente!')\n",
        "    else:\n",
        "      print('A última requisição veio vazia. Paramos por aqui.') "
      ],
      "metadata": {
        "id": "NoLHJ_tDix_Z"
      },
      "execution_count": null,
      "outputs": []
    },
    {
      "cell_type": "code",
      "source": [
        "df = pd.DataFrame(dados)\n"
      ],
      "metadata": {
        "id": "mp9bnJx9CeXc"
      },
      "execution_count": 8,
      "outputs": []
    },
    {
      "cell_type": "code",
      "source": [
        "df.dtypes"
      ],
      "metadata": {
        "id": "D1dAGqtdo-Ct",
        "colab": {
          "base_uri": "https://localhost:8080/"
        },
        "outputId": "153aeb0f-a33a-44dc-9a3d-20e3ed610dae"
      },
      "execution_count": 9,
      "outputs": [
        {
          "output_type": "execute_result",
          "data": {
            "text/plain": [
              "anoMes                   int64\n",
              "codigoPessoa            object\n",
              "nomePessoa              object\n",
              "tipoPessoa              object\n",
              "municipioPessoa         object\n",
              "siglaUFPessoa           object\n",
              "codigoUG                object\n",
              "nomeUG                  object\n",
              "codigoOrgao             object\n",
              "nomeOrgao               object\n",
              "codigoOrgaoSuperior     object\n",
              "nomeOrgaoSuperior       object\n",
              "valor                  float64\n",
              "dtype: object"
            ]
          },
          "metadata": {},
          "execution_count": 9
        }
      ]
    },
    {
      "cell_type": "code",
      "source": [
        "df.head(5)"
      ],
      "metadata": {
        "id": "EceXIMmHY0x1"
      },
      "execution_count": null,
      "outputs": []
    },
    {
      "cell_type": "code",
      "source": [
        "df['valor']=df['valor'].apply(lambda x: '{:.2f},'.format(x))\n",
        "df['valor'] = df['valor'].str.replace('.',',',regex=True)\n",
        "df['valor']=df['valor'].str.rstrip(',')"
      ],
      "metadata": {
        "id": "PVWIX5iugtxS"
      },
      "execution_count": 11,
      "outputs": []
    },
    {
      "cell_type": "code",
      "source": [
        "df.head(5)"
      ],
      "metadata": {
        "id": "NVzE5YcQsXYQ"
      },
      "execution_count": null,
      "outputs": []
    },
    {
      "cell_type": "code",
      "source": [
        "df.to_csv('arquivo.csv')"
      ],
      "metadata": {
        "id": "xpt_tbkvY_fI"
      },
      "execution_count": 13,
      "outputs": []
    },
    {
      "cell_type": "code",
      "source": [
        "!pwd "
      ],
      "metadata": {
        "id": "OsheZh75cSSv",
        "colab": {
          "base_uri": "https://localhost:8080/"
        },
        "outputId": "69076612-55a8-43af-9d41-dbf1308c3bd0"
      },
      "execution_count": 14,
      "outputs": [
        {
          "output_type": "stream",
          "name": "stdout",
          "text": [
            "/content\n"
          ]
        }
      ]
    }
  ]
}